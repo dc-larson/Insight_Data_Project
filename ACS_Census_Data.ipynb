{
 "cells": [
  {
   "cell_type": "markdown",
   "metadata": {},
   "source": [
    "### Obtaining data from US Census American Community Survey (ACS) \n",
    "\n",
    "Getting data from the 5-year estimates 2014-2018. I will focus only on the Oregon counties discussed with the Project Consultant. Multnomah, Lane, Marion, and Polk Counties. This is a massive dataset so I will start with something manageable for now.\n",
    "\n",
    "The tutorial for the CensusData package can be found [HERE](https://towardsdatascience.com/accessing-census-data-with-python-3e2f2b56e20d)."
   ]
  },
  {
   "cell_type": "code",
   "execution_count": 4,
   "metadata": {},
   "outputs": [],
   "source": [
    "import pandas as pd\n",
    "import censusdata\n",
    "pd.set_option('display.expand_frame_repr', False)\n",
    "pd.set_option('display.precision', 2)"
   ]
  },
  {
   "cell_type": "markdown",
   "metadata": {},
   "source": [
    "Now use the \"Search\" method of the CensusData package\n"
   ]
  },
  {
   "cell_type": "code",
   "execution_count": 6,
   "metadata": {},
   "outputs": [
    {
     "name": "stdout",
     "output_type": "stream",
     "text": [
      "6755\n"
     ]
    }
   ],
   "source": [
    "sample = censusdata.search('acs5', 2018,'concept', 'sex')\n",
    "print(len(sample))"
   ]
  },
  {
   "cell_type": "code",
   "execution_count": 7,
   "metadata": {},
   "outputs": [
    {
     "name": "stdout",
     "output_type": "stream",
     "text": [
      "('B01001A_001E', 'SEX BY AGE (WHITE ALONE)', 'Estimate!!Total')\n"
     ]
    }
   ],
   "source": [
    "print(sample[0])"
   ]
  },
  {
   "cell_type": "code",
   "execution_count": 9,
   "metadata": {},
   "outputs": [
    {
     "name": "stdout",
     "output_type": "stream",
     "text": [
      "('B01001A_005E', 'SEX BY AGE (WHITE ALONE)', 'Estimate!!Total!!Male!!10 to 14 years')\n"
     ]
    }
   ],
   "source": [
    "print(sample[4])"
   ]
  },
  {
   "cell_type": "code",
   "execution_count": 23,
   "metadata": {},
   "outputs": [
    {
     "data": {
      "text/plain": [
       "[('B06011PR_001E',\n",
       "  'MEDIAN INCOME IN THE PAST 12 MONTHS (IN 2018 INFLATION-ADJUSTED DOLLARS) BY PLACE OF BIRTH IN PUERTO RICO',\n",
       "  'Estimate!!Median income in the past 12 months --!!Total'),\n",
       " ('B06011PR_002E',\n",
       "  'MEDIAN INCOME IN THE PAST 12 MONTHS (IN 2018 INFLATION-ADJUSTED DOLLARS) BY PLACE OF BIRTH IN PUERTO RICO',\n",
       "  'Estimate!!Median income in the past 12 months --!!Total!!Born in Puerto Rico'),\n",
       " ('B06011PR_003E',\n",
       "  'MEDIAN INCOME IN THE PAST 12 MONTHS (IN 2018 INFLATION-ADJUSTED DOLLARS) BY PLACE OF BIRTH IN PUERTO RICO',\n",
       "  'Estimate!!Median income in the past 12 months --!!Total!!Born in other state of the United States'),\n",
       " ('B06011PR_004E',\n",
       "  'MEDIAN INCOME IN THE PAST 12 MONTHS (IN 2018 INFLATION-ADJUSTED DOLLARS) BY PLACE OF BIRTH IN PUERTO RICO',\n",
       "  'Estimate!!Median income in the past 12 months --!!Total!!Native; born elsewhere'),\n",
       " ('B06011PR_005E',\n",
       "  'MEDIAN INCOME IN THE PAST 12 MONTHS (IN 2018 INFLATION-ADJUSTED DOLLARS) BY PLACE OF BIRTH IN PUERTO RICO',\n",
       "  'Estimate!!Median income in the past 12 months --!!Total!!Foreign born'),\n",
       " ('B06011_001E',\n",
       "  'MEDIAN INCOME IN THE PAST 12 MONTHS (IN 2018 INFLATION-ADJUSTED DOLLARS) BY PLACE OF BIRTH IN THE UNITED STATES',\n",
       "  'Estimate!!Median income in the past 12 months --!!Total'),\n",
       " ('B06011_002E',\n",
       "  'MEDIAN INCOME IN THE PAST 12 MONTHS (IN 2018 INFLATION-ADJUSTED DOLLARS) BY PLACE OF BIRTH IN THE UNITED STATES',\n",
       "  'Estimate!!Median income in the past 12 months --!!Total!!Born in state of residence'),\n",
       " ('B06011_003E',\n",
       "  'MEDIAN INCOME IN THE PAST 12 MONTHS (IN 2018 INFLATION-ADJUSTED DOLLARS) BY PLACE OF BIRTH IN THE UNITED STATES',\n",
       "  'Estimate!!Median income in the past 12 months --!!Total!!Born in other state of the United States'),\n",
       " ('B06011_004E',\n",
       "  'MEDIAN INCOME IN THE PAST 12 MONTHS (IN 2018 INFLATION-ADJUSTED DOLLARS) BY PLACE OF BIRTH IN THE UNITED STATES',\n",
       "  'Estimate!!Median income in the past 12 months --!!Total!!Native; born outside the United States'),\n",
       " ('B06011_005E',\n",
       "  'MEDIAN INCOME IN THE PAST 12 MONTHS (IN 2018 INFLATION-ADJUSTED DOLLARS) BY PLACE OF BIRTH IN THE UNITED STATES',\n",
       "  'Estimate!!Median income in the past 12 months --!!Total!!Foreign born'),\n",
       " ('B07011PR_001E',\n",
       "  'MEDIAN INCOME IN THE PAST 12 MONTHS (IN 2018 INFLATION-ADJUSTED DOLLARS) BY GEOGRAPHICAL MOBILITY IN THE PAST YEAR FOR CURRENT RESIDENCE IN PUERTO RICO',\n",
       "  'Estimate!!Median income in the past 12 months --!!Total'),\n",
       " ('B07011PR_002E',\n",
       "  'MEDIAN INCOME IN THE PAST 12 MONTHS (IN 2018 INFLATION-ADJUSTED DOLLARS) BY GEOGRAPHICAL MOBILITY IN THE PAST YEAR FOR CURRENT RESIDENCE IN PUERTO RICO',\n",
       "  'Estimate!!Median income in the past 12 months --!!Total!!Same house 1 year ago'),\n",
       " ('B07011PR_003E',\n",
       "  'MEDIAN INCOME IN THE PAST 12 MONTHS (IN 2018 INFLATION-ADJUSTED DOLLARS) BY GEOGRAPHICAL MOBILITY IN THE PAST YEAR FOR CURRENT RESIDENCE IN PUERTO RICO',\n",
       "  'Estimate!!Median income in the past 12 months --!!Total!!Moved within same municipio'),\n",
       " ('B07011PR_004E',\n",
       "  'MEDIAN INCOME IN THE PAST 12 MONTHS (IN 2018 INFLATION-ADJUSTED DOLLARS) BY GEOGRAPHICAL MOBILITY IN THE PAST YEAR FOR CURRENT RESIDENCE IN PUERTO RICO',\n",
       "  'Estimate!!Median income in the past 12 months --!!Total!!Moved from different municipio'),\n",
       " ('B07011PR_005E',\n",
       "  'MEDIAN INCOME IN THE PAST 12 MONTHS (IN 2018 INFLATION-ADJUSTED DOLLARS) BY GEOGRAPHICAL MOBILITY IN THE PAST YEAR FOR CURRENT RESIDENCE IN PUERTO RICO',\n",
       "  'Estimate!!Median income in the past 12 months --!!Total!!Moved from the United States'),\n",
       " ('B07011PR_006E',\n",
       "  'MEDIAN INCOME IN THE PAST 12 MONTHS (IN 2018 INFLATION-ADJUSTED DOLLARS) BY GEOGRAPHICAL MOBILITY IN THE PAST YEAR FOR CURRENT RESIDENCE IN PUERTO RICO',\n",
       "  'Estimate!!Median income in the past 12 months --!!Total!!Moved from elsewhere'),\n",
       " ('B07011_001E',\n",
       "  'MEDIAN INCOME IN THE PAST 12 MONTHS (IN 2018 INFLATION-ADJUSTED DOLLARS) BY GEOGRAPHICAL MOBILITY IN THE PAST YEAR FOR CURRENT RESIDENCE IN THE UNITED STATES',\n",
       "  'Estimate!!Median income in the past 12 months --!!Total'),\n",
       " ('B07011_002E',\n",
       "  'MEDIAN INCOME IN THE PAST 12 MONTHS (IN 2018 INFLATION-ADJUSTED DOLLARS) BY GEOGRAPHICAL MOBILITY IN THE PAST YEAR FOR CURRENT RESIDENCE IN THE UNITED STATES',\n",
       "  'Estimate!!Median income in the past 12 months --!!Total!!Same house 1 year ago'),\n",
       " ('B07011_003E',\n",
       "  'MEDIAN INCOME IN THE PAST 12 MONTHS (IN 2018 INFLATION-ADJUSTED DOLLARS) BY GEOGRAPHICAL MOBILITY IN THE PAST YEAR FOR CURRENT RESIDENCE IN THE UNITED STATES',\n",
       "  'Estimate!!Median income in the past 12 months --!!Total!!Moved within same county'),\n",
       " ('B07011_004E',\n",
       "  'MEDIAN INCOME IN THE PAST 12 MONTHS (IN 2018 INFLATION-ADJUSTED DOLLARS) BY GEOGRAPHICAL MOBILITY IN THE PAST YEAR FOR CURRENT RESIDENCE IN THE UNITED STATES',\n",
       "  'Estimate!!Median income in the past 12 months --!!Total!!Moved from different county within same state'),\n",
       " ('B07011_005E',\n",
       "  'MEDIAN INCOME IN THE PAST 12 MONTHS (IN 2018 INFLATION-ADJUSTED DOLLARS) BY GEOGRAPHICAL MOBILITY IN THE PAST YEAR FOR CURRENT RESIDENCE IN THE UNITED STATES',\n",
       "  'Estimate!!Median income in the past 12 months --!!Total!!Moved from different state'),\n",
       " ('B07011_006E',\n",
       "  'MEDIAN INCOME IN THE PAST 12 MONTHS (IN 2018 INFLATION-ADJUSTED DOLLARS) BY GEOGRAPHICAL MOBILITY IN THE PAST YEAR FOR CURRENT RESIDENCE IN THE UNITED STATES',\n",
       "  'Estimate!!Median income in the past 12 months --!!Total!!Moved from abroad'),\n",
       " ('B07411PR_001E',\n",
       "  'MEDIAN INCOME IN THE PAST 12 MONTHS (IN 2018 INFLATION-ADJUSTED DOLLARS) BY GEOGRAPHICAL MOBILITY IN THE PAST YEAR FOR RESIDENCE 1 YEAR AGO IN PUERTO RICO',\n",
       "  'Estimate!!Median income in the past 12 months --!!Total living in area 1 year ago'),\n",
       " ('B07411PR_002E',\n",
       "  'MEDIAN INCOME IN THE PAST 12 MONTHS (IN 2018 INFLATION-ADJUSTED DOLLARS) BY GEOGRAPHICAL MOBILITY IN THE PAST YEAR FOR RESIDENCE 1 YEAR AGO IN PUERTO RICO',\n",
       "  'Estimate!!Median income in the past 12 months --!!Total living in area 1 year ago!!Same house'),\n",
       " ('B07411PR_003E',\n",
       "  'MEDIAN INCOME IN THE PAST 12 MONTHS (IN 2018 INFLATION-ADJUSTED DOLLARS) BY GEOGRAPHICAL MOBILITY IN THE PAST YEAR FOR RESIDENCE 1 YEAR AGO IN PUERTO RICO',\n",
       "  'Estimate!!Median income in the past 12 months --!!Total living in area 1 year ago!!Moved within same municipio'),\n",
       " ('B07411PR_004E',\n",
       "  'MEDIAN INCOME IN THE PAST 12 MONTHS (IN 2018 INFLATION-ADJUSTED DOLLARS) BY GEOGRAPHICAL MOBILITY IN THE PAST YEAR FOR RESIDENCE 1 YEAR AGO IN PUERTO RICO',\n",
       "  'Estimate!!Median income in the past 12 months --!!Total living in area 1 year ago!!Moved to different municipio'),\n",
       " ('B07411PR_005E',\n",
       "  'MEDIAN INCOME IN THE PAST 12 MONTHS (IN 2018 INFLATION-ADJUSTED DOLLARS) BY GEOGRAPHICAL MOBILITY IN THE PAST YEAR FOR RESIDENCE 1 YEAR AGO IN PUERTO RICO',\n",
       "  'Estimate!!Median income in the past 12 months --!!Total living in area 1 year ago!!Moved to the United States'),\n",
       " ('B07411_001E',\n",
       "  'MEDIAN INCOME IN THE PAST 12 MONTHS (IN 2018 INFLATION-ADJUSTED DOLLARS) BY GEOGRAPHICAL MOBILITY IN THE PAST YEAR FOR RESIDENCE 1 YEAR AGO IN THE UNITED STATES',\n",
       "  'Estimate!!Median income in the past 12 months --!!Total living in area 1 year ago'),\n",
       " ('B07411_002E',\n",
       "  'MEDIAN INCOME IN THE PAST 12 MONTHS (IN 2018 INFLATION-ADJUSTED DOLLARS) BY GEOGRAPHICAL MOBILITY IN THE PAST YEAR FOR RESIDENCE 1 YEAR AGO IN THE UNITED STATES',\n",
       "  'Estimate!!Median income in the past 12 months --!!Total living in area 1 year ago!!Same house'),\n",
       " ('B07411_003E',\n",
       "  'MEDIAN INCOME IN THE PAST 12 MONTHS (IN 2018 INFLATION-ADJUSTED DOLLARS) BY GEOGRAPHICAL MOBILITY IN THE PAST YEAR FOR RESIDENCE 1 YEAR AGO IN THE UNITED STATES',\n",
       "  'Estimate!!Median income in the past 12 months --!!Total living in area 1 year ago!!Moved within same county'),\n",
       " ('B07411_004E',\n",
       "  'MEDIAN INCOME IN THE PAST 12 MONTHS (IN 2018 INFLATION-ADJUSTED DOLLARS) BY GEOGRAPHICAL MOBILITY IN THE PAST YEAR FOR RESIDENCE 1 YEAR AGO IN THE UNITED STATES',\n",
       "  'Estimate!!Median income in the past 12 months --!!Total living in area 1 year ago!!Moved to different county within same state'),\n",
       " ('B07411_005E',\n",
       "  'MEDIAN INCOME IN THE PAST 12 MONTHS (IN 2018 INFLATION-ADJUSTED DOLLARS) BY GEOGRAPHICAL MOBILITY IN THE PAST YEAR FOR RESIDENCE 1 YEAR AGO IN THE UNITED STATES',\n",
       "  'Estimate!!Median income in the past 12 months --!!Total living in area 1 year ago!!Moved to different state'),\n",
       " ('B19326_001E',\n",
       "  'MEDIAN INCOME IN THE PAST 12 MONTHS (IN 2018 INFLATION-ADJUSTED DOLLARS) BY SEX BY WORK EXPERIENCE IN THE PAST 12 MONTHS FOR THE POPULATION 15 YEARS AND OVER WITH INCOME',\n",
       "  'Estimate!!Median income in the past 12 months (in 2018 inflation-adjusted dollars) --!!Total (dollars)'),\n",
       " ('B19326_002E',\n",
       "  'MEDIAN INCOME IN THE PAST 12 MONTHS (IN 2018 INFLATION-ADJUSTED DOLLARS) BY SEX BY WORK EXPERIENCE IN THE PAST 12 MONTHS FOR THE POPULATION 15 YEARS AND OVER WITH INCOME',\n",
       "  'Estimate!!Median income in the past 12 months (in 2018 inflation-adjusted dollars) --!!Male --!!Total (dollars)'),\n",
       " ('B19326_003E',\n",
       "  'MEDIAN INCOME IN THE PAST 12 MONTHS (IN 2018 INFLATION-ADJUSTED DOLLARS) BY SEX BY WORK EXPERIENCE IN THE PAST 12 MONTHS FOR THE POPULATION 15 YEARS AND OVER WITH INCOME',\n",
       "  'Estimate!!Median income in the past 12 months (in 2018 inflation-adjusted dollars) --!!Male --!!Worked full-time, year-round in the past 12 months (dollars)'),\n",
       " ('B19326_004E',\n",
       "  'MEDIAN INCOME IN THE PAST 12 MONTHS (IN 2018 INFLATION-ADJUSTED DOLLARS) BY SEX BY WORK EXPERIENCE IN THE PAST 12 MONTHS FOR THE POPULATION 15 YEARS AND OVER WITH INCOME',\n",
       "  'Estimate!!Median income in the past 12 months (in 2018 inflation-adjusted dollars) --!!Male --!!Other (dollars)'),\n",
       " ('B19326_005E',\n",
       "  'MEDIAN INCOME IN THE PAST 12 MONTHS (IN 2018 INFLATION-ADJUSTED DOLLARS) BY SEX BY WORK EXPERIENCE IN THE PAST 12 MONTHS FOR THE POPULATION 15 YEARS AND OVER WITH INCOME',\n",
       "  'Estimate!!Median income in the past 12 months (in 2018 inflation-adjusted dollars) --!!Female --!!Total (dollars)'),\n",
       " ('B19326_006E',\n",
       "  'MEDIAN INCOME IN THE PAST 12 MONTHS (IN 2018 INFLATION-ADJUSTED DOLLARS) BY SEX BY WORK EXPERIENCE IN THE PAST 12 MONTHS FOR THE POPULATION 15 YEARS AND OVER WITH INCOME',\n",
       "  'Estimate!!Median income in the past 12 months (in 2018 inflation-adjusted dollars) --!!Female --!!Worked full-time, year-round in the past 12 months (dollars)'),\n",
       " ('B19326_007E',\n",
       "  'MEDIAN INCOME IN THE PAST 12 MONTHS (IN 2018 INFLATION-ADJUSTED DOLLARS) BY SEX BY WORK EXPERIENCE IN THE PAST 12 MONTHS FOR THE POPULATION 15 YEARS AND OVER WITH INCOME',\n",
       "  'Estimate!!Median income in the past 12 months (in 2018 inflation-adjusted dollars) --!!Female --!!Other (dollars)')]"
      ]
     },
     "execution_count": 23,
     "metadata": {},
     "output_type": "execute_result"
    }
   ],
   "source": [
    "censusdata.search('acs5', 2018, 'label', 'median income', 'detail')[0:100]"
   ]
  },
  {
   "cell_type": "markdown",
   "metadata": {},
   "source": [
    "I'm finding it easier to paruse the parent table directory on the U.S. Census website.\n",
    "B00001_001E\n",
    "B00002_001E\n",
    "B01001_001E\n",
    "B01001_002E\n",
    "B01001_026E\n",
    "B01002_001E\n",
    "B01002_002E\n",
    "B01002_003E\n",
    "B01003_001E\n",
    "DP05_0002E\n",
    "DP05_0002PE\n",
    "DP05_0003E\n",
    "DP05_0003PE\n",
    "DP05_0018E\n",
    "DP05_0018PE\n",
    "S1901\n",
    "S1903\n",
    "B19013"
   ]
  },
  {
   "cell_type": "code",
   "execution_count": 24,
   "metadata": {},
   "outputs": [],
   "source": [
    "# Now add geography\n",
    "\n",
    "states = censusdata.geographies(censusdata.censusgeo([('state', '*')]), 'acs5', 2018)"
   ]
  },
  {
   "cell_type": "code",
   "execution_count": 25,
   "metadata": {},
   "outputs": [
    {
     "name": "stdout",
     "output_type": "stream",
     "text": [
      "{'Minnesota': censusgeo((('state', '27'),)), 'Mississippi': censusgeo((('state', '28'),)), 'Missouri': censusgeo((('state', '29'),)), 'Montana': censusgeo((('state', '30'),)), 'Nebraska': censusgeo((('state', '31'),)), 'Nevada': censusgeo((('state', '32'),)), 'New Hampshire': censusgeo((('state', '33'),)), 'New Jersey': censusgeo((('state', '34'),)), 'New Mexico': censusgeo((('state', '35'),)), 'New York': censusgeo((('state', '36'),)), 'North Carolina': censusgeo((('state', '37'),)), 'North Dakota': censusgeo((('state', '38'),)), 'Ohio': censusgeo((('state', '39'),)), 'Oklahoma': censusgeo((('state', '40'),)), 'Oregon': censusgeo((('state', '41'),)), 'Pennsylvania': censusgeo((('state', '42'),)), 'Rhode Island': censusgeo((('state', '44'),)), 'South Carolina': censusgeo((('state', '45'),)), 'South Dakota': censusgeo((('state', '46'),)), 'Tennessee': censusgeo((('state', '47'),)), 'Texas': censusgeo((('state', '48'),)), 'Utah': censusgeo((('state', '49'),)), 'Vermont': censusgeo((('state', '50'),)), 'Virginia': censusgeo((('state', '51'),)), 'West Virginia': censusgeo((('state', '54'),)), 'Washington': censusgeo((('state', '53'),)), 'Wisconsin': censusgeo((('state', '55'),)), 'Wyoming': censusgeo((('state', '56'),)), 'Puerto Rico': censusgeo((('state', '72'),)), 'Alabama': censusgeo((('state', '01'),)), 'Alaska': censusgeo((('state', '02'),)), 'Arizona': censusgeo((('state', '04'),)), 'Arkansas': censusgeo((('state', '05'),)), 'California': censusgeo((('state', '06'),)), 'Colorado': censusgeo((('state', '08'),)), 'Connecticut': censusgeo((('state', '09'),)), 'Delaware': censusgeo((('state', '10'),)), 'District of Columbia': censusgeo((('state', '11'),)), 'Florida': censusgeo((('state', '12'),)), 'Georgia': censusgeo((('state', '13'),)), 'Idaho': censusgeo((('state', '16'),)), 'Hawaii': censusgeo((('state', '15'),)), 'Illinois': censusgeo((('state', '17'),)), 'Indiana': censusgeo((('state', '18'),)), 'Iowa': censusgeo((('state', '19'),)), 'Kansas': censusgeo((('state', '20'),)), 'Kentucky': censusgeo((('state', '21'),)), 'Louisiana': censusgeo((('state', '22'),)), 'Maine': censusgeo((('state', '23'),)), 'Maryland': censusgeo((('state', '24'),)), 'Massachusetts': censusgeo((('state', '25'),)), 'Michigan': censusgeo((('state', '26'),))}\n"
     ]
    }
   ],
   "source": [
    "print(states)"
   ]
  },
  {
   "cell_type": "code",
   "execution_count": 26,
   "metadata": {},
   "outputs": [
    {
     "name": "stdout",
     "output_type": "stream",
     "text": [
      "Summary level: 040, state:41\n"
     ]
    }
   ],
   "source": [
    "print(states['Oregon'])"
   ]
  },
  {
   "cell_type": "code",
   "execution_count": 27,
   "metadata": {},
   "outputs": [],
   "source": [
    "# Get counties\n",
    "counties = censusdata.geographies(censusdata.censusgeo([('state', '41'), ('county', '*')]), 'acs5', 2018)"
   ]
  },
  {
   "cell_type": "code",
   "execution_count": 28,
   "metadata": {},
   "outputs": [
    {
     "name": "stdout",
     "output_type": "stream",
     "text": [
      "{'Marion County, Oregon': censusgeo((('state', '41'), ('county', '047'))), 'Jackson County, Oregon': censusgeo((('state', '41'), ('county', '029'))), 'Grant County, Oregon': censusgeo((('state', '41'), ('county', '023'))), 'Jefferson County, Oregon': censusgeo((('state', '41'), ('county', '031'))), 'Clackamas County, Oregon': censusgeo((('state', '41'), ('county', '005'))), 'Linn County, Oregon': censusgeo((('state', '41'), ('county', '043'))), 'Tillamook County, Oregon': censusgeo((('state', '41'), ('county', '057'))), 'Baker County, Oregon': censusgeo((('state', '41'), ('county', '001'))), 'Josephine County, Oregon': censusgeo((('state', '41'), ('county', '033'))), 'Umatilla County, Oregon': censusgeo((('state', '41'), ('county', '059'))), 'Lincoln County, Oregon': censusgeo((('state', '41'), ('county', '041'))), 'Columbia County, Oregon': censusgeo((('state', '41'), ('county', '009'))), 'Sherman County, Oregon': censusgeo((('state', '41'), ('county', '055'))), 'Wasco County, Oregon': censusgeo((('state', '41'), ('county', '065'))), 'Lane County, Oregon': censusgeo((('state', '41'), ('county', '039'))), 'Malheur County, Oregon': censusgeo((('state', '41'), ('county', '045'))), 'Washington County, Oregon': censusgeo((('state', '41'), ('county', '067'))), 'Morrow County, Oregon': censusgeo((('state', '41'), ('county', '049'))), 'Clatsop County, Oregon': censusgeo((('state', '41'), ('county', '007'))), 'Curry County, Oregon': censusgeo((('state', '41'), ('county', '015'))), 'Gilliam County, Oregon': censusgeo((('state', '41'), ('county', '021'))), 'Lake County, Oregon': censusgeo((('state', '41'), ('county', '037'))), 'Union County, Oregon': censusgeo((('state', '41'), ('county', '061'))), 'Douglas County, Oregon': censusgeo((('state', '41'), ('county', '019'))), 'Polk County, Oregon': censusgeo((('state', '41'), ('county', '053'))), 'Deschutes County, Oregon': censusgeo((('state', '41'), ('county', '017'))), 'Yamhill County, Oregon': censusgeo((('state', '41'), ('county', '071'))), 'Klamath County, Oregon': censusgeo((('state', '41'), ('county', '035'))), 'Benton County, Oregon': censusgeo((('state', '41'), ('county', '003'))), 'Crook County, Oregon': censusgeo((('state', '41'), ('county', '013'))), 'Harney County, Oregon': censusgeo((('state', '41'), ('county', '025'))), 'Wallowa County, Oregon': censusgeo((('state', '41'), ('county', '063'))), 'Wheeler County, Oregon': censusgeo((('state', '41'), ('county', '069'))), 'Coos County, Oregon': censusgeo((('state', '41'), ('county', '011'))), 'Hood River County, Oregon': censusgeo((('state', '41'), ('county', '027'))), 'Multnomah County, Oregon': censusgeo((('state', '41'), ('county', '051')))}\n"
     ]
    }
   ],
   "source": [
    "print(counties)"
   ]
  },
  {
   "cell_type": "code",
   "execution_count": null,
   "metadata": {},
   "outputs": [],
   "source": [
    "#Multnomah County, Oregon': censusgeo((('state', '41'), ('county', '051')))\n",
    "#'Lane County, Oregon': censusgeo((('state', '41'), ('county', '039')))\n",
    "#'Polk County, Oregon': censusgeo((('state', '41'), ('county', '053')))\n",
    "#'Marion County, Oregon': censusgeo((('state', '41'), ('county', '047')))\n",
    "#'Deschutes County, Oregon': censusgeo((('state', '41'), ('county', '017')))"
   ]
  },
  {
   "cell_type": "code",
   "execution_count": 32,
   "metadata": {},
   "outputs": [],
   "source": [
    "data = censusdata.download('acs5', 2018,\n",
    "           censusdata.censusgeo([('state', '41'),\n",
    "                                 ('county', '017','039','047','051','053'),\n",
    "                                 ('block group', '*')]),\n",
    "          ['B00001_001E', 'B00002_001E', 'B01001_001E',\n",
    "           'B01001_002E', 'B01001_026E',\n",
    "           'B01002_001E', 'B01002_002E',\n",
    "           'B01002_003E', 'B01003_001E'])"
   ]
  },
  {
   "cell_type": "code",
   "execution_count": 33,
   "metadata": {},
   "outputs": [
    {
     "name": "stdout",
     "output_type": "stream",
     "text": [
      "<bound method NDFrame.head of                                                     B00001_001E  B00002_001E  B01001_001E  B01001_002E  B01001_026E  B01002_001E  B01002_002E  B01002_003E  B01003_001E\n",
      "Block Group 1, Census Tract 16, Deschutes Count...         50.0         20.0          874          586          288         32.9         31.0         57.0          874\n",
      "Block Group 2, Census Tract 16, Deschutes Count...        100.0         50.0         2271         1089         1182         33.5         28.1         36.8         2271\n",
      "Block Group 1, Census Tract 17, Deschutes Count...        150.0         60.0         3118         1374         1744         40.5         42.3         37.8         3118\n",
      "Block Group 2, Census Tract 17, Deschutes Count...        100.0         50.0         2370         1201         1169         37.2         34.3         39.7         2370\n",
      "Block Group 4, Census Tract 17, Deschutes Count...         90.0         40.0         2228          952         1276         32.8         37.6         30.2         2228\n",
      "...                                                         ...          ...          ...          ...          ...          ...          ...          ...          ...\n",
      "Block Group 1, Census Tract 19.01, Deschutes Co...        300.0        100.0         1938          960          978         50.4         48.8         51.7         1938\n",
      "Block Group 3, Census Tract 19.02, Deschutes Co...         40.0         20.0          681          351          330         47.0         47.3         46.7          681\n",
      "Block Group 2, Census Tract 20, Deschutes Count...        100.0         50.0         2221          977         1244         33.0         31.7         33.4         2221\n",
      "Block Group 1, Census Tract 21, Deschutes Count...         70.0         40.0         1851          921          930         60.3         50.0         61.8         1851\n",
      "Block Group 4, Census Tract 21, Deschutes Count...         60.0         20.0         1724          927          797         41.4         36.9         42.7         1724\n",
      "\n",
      "[85 rows x 9 columns]>\n"
     ]
    }
   ],
   "source": [
    "print(data.head)"
   ]
  },
  {
   "cell_type": "code",
   "execution_count": 36,
   "metadata": {},
   "outputs": [],
   "source": [
    "#save that dataframe to a CSV spreadsheet\n",
    "data.to_csv('ACS_2018_2.csv', index=True)"
   ]
  },
  {
   "cell_type": "code",
   "execution_count": null,
   "metadata": {},
   "outputs": [],
   "source": []
  }
 ],
 "metadata": {
  "kernelspec": {
   "display_name": "Python 3",
   "language": "python",
   "name": "python3"
  },
  "language_info": {
   "codemirror_mode": {
    "name": "ipython",
    "version": 3
   },
   "file_extension": ".py",
   "mimetype": "text/x-python",
   "name": "python",
   "nbconvert_exporter": "python",
   "pygments_lexer": "ipython3",
   "version": "3.7.6"
  }
 },
 "nbformat": 4,
 "nbformat_minor": 4
}
